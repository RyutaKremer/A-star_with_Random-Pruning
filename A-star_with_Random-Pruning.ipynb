{
  "nbformat": 4,
  "nbformat_minor": 0,
  "metadata": {
    "colab": {
      "provenance": [],
      "authorship_tag": "ABX9TyP0mnOxGWDX+6vyF9dx7umi",
      "include_colab_link": true
    },
    "kernelspec": {
      "name": "python3",
      "display_name": "Python 3"
    },
    "language_info": {
      "name": "python"
    }
  },
  "cells": [
    {
      "cell_type": "markdown",
      "metadata": {
        "id": "view-in-github",
        "colab_type": "text"
      },
      "source": [
        "<a href=\"https://colab.research.google.com/github/RyutaKremer/A-star_with_Random-Pruning/blob/main/A-star_with_Random-Pruning.ipynb\" target=\"_parent\"><img src=\"https://colab.research.google.com/assets/colab-badge.svg\" alt=\"Open In Colab\"/></a>"
      ]
    },
    {
      "cell_type": "code",
      "execution_count": null,
      "metadata": {
        "id": "v3tK39NIXLep"
      },
      "outputs": [],
      "source": [
        "import pandas as pd\n",
        "import queue\n",
        "import random\n",
        "import numpy as np\n",
        "import time\n",
        "\n",
        "from PIL import Image"
      ]
    },
    {
      "cell_type": "markdown",
      "source": [
        "Base A* implementation"
      ],
      "metadata": {
        "id": "7b8Ihm_6bCgs"
      }
    },
    {
      "cell_type": "code",
      "source": [
        "def a_star_with_random_pruning(start_state, heuristic_func, expand_func, goal_test, \n",
        "                               weight=1, ranodom_ratio=None):\n",
        "  g_scores = dict()\n",
        "  open_list = queue.PriorityQueue()\n",
        "  closed_list = set()\n",
        "  rand_generator = random.Random(42)\n",
        "\n",
        "  g_scores[start_state] = 0\n",
        "  open_list.put((heuristic_func(start_state), start_state))\n",
        "\n",
        "  stat = {}\n",
        "  stat['time'] = 0  # Execution time\n",
        "  stat['total expansion'] = 0\n",
        "  stat['memory size'] = 0\n",
        "  stat['score'] = 0\n",
        "\n",
        "  # start taking time\n",
        "  search_start = time.time()\n",
        "\n",
        "  while not open_list.empty():\n",
        "    best_value, best_state = open_list.get()\n",
        "\n",
        "    if goal_test(best_state):\n",
        "      search_end = time.time()\n",
        "      stat['time'] = search_end - search_start\n",
        "      stat['memory size'] = len(g_scores)\n",
        "      stat['score'] = best_value\n",
        "      return best_value, stat\n",
        "    elif time.time() - search_start > 180:\n",
        "      stat['time'] = '>180'\n",
        "      stat['memory size'] = len(g_scores)\n",
        "      stat['score'] = best_value\n",
        "      return best_value, stat\n",
        "    \n",
        "    if best_state in closed_list:\n",
        "      continue\n",
        "    closed_list.add(best_state)\n",
        "\n",
        "    for new_state, cost_best_to_new in expand_func(best_state, ranodom_ratio, rand_generator):\n",
        "      stat['total expansion'] += 1\n",
        "\n",
        "      g_new = g_scores[best_state] + cost_best_to_new\n",
        "      if new_state in g_scores: # OPEN U CLOSES\n",
        "        if g_scores[new_state] <= g_new:\n",
        "          continue\n",
        "        else:\n",
        "          # new_state shouldn't removed in OPEN since \n",
        "          closed_list.discard(new_state)\n",
        "      g_scores[new_state] = g_new\n",
        "      open_list.put((g_scores[new_state] + heuristic_func(new_state) * weight, new_state))\n",
        "\n",
        "  search_end = time.time()\n",
        "  stat['time'] = search_end - search_start\n",
        "  stat['memory size'] = len(g_scores)\n",
        "  stat['score'] = -1\n",
        "  return -1, stat"
      ],
      "metadata": {
        "id": "wBv0Km4GXMDK"
      },
      "execution_count": null,
      "outputs": []
    },
    {
      "cell_type": "markdown",
      "source": [
        "Functions for seach in maze"
      ],
      "metadata": {
        "id": "SUSnGw0PbJH1"
      }
    },
    {
      "cell_type": "code",
      "source": [
        "def manhattan_distance_to_goal(state):\n",
        "  x, y = state\n",
        "  gx, gy = goal_state\n",
        "  return abs(x-gx) + abs(y-gy)"
      ],
      "metadata": {
        "id": "5GbvuB9dSwze"
      },
      "execution_count": null,
      "outputs": []
    },
    {
      "cell_type": "code",
      "source": [
        "def number_of_separating_walls(state):\n",
        "  x, y = state\n",
        "  gx, gy = goal_state\n",
        "  return np.sum(maze_array[x:gx] == 0) + np.sum(maze_array[y:gy] == 0)"
      ],
      "metadata": {
        "id": "ktEzRb0fO-S0"
      },
      "execution_count": null,
      "outputs": []
    },
    {
      "cell_type": "code",
      "source": [
        "def expand_in_maze_4d(state, ranodom_ratio, rand_generator):\n",
        "  x, y = state\n",
        "  dx = [1, 0, -1, 0]\n",
        "  dy = [0, 1, 0, -1]\n",
        "  r_states = []\n",
        "\n",
        "  for i in range(4):\n",
        "    if ranodom_ratio is not None:\n",
        "        if rand_generator.uniform(0, 1) < ranodom_ratio:\n",
        "          continue  # skip new node\n",
        "    n_state_x = x + dx[i]\n",
        "    n_state_y = y + dy[i]\n",
        "    if 0 <= n_state_x < w and 0 <= n_state_y < l and maze_array[n_state_x, n_state_y] != 0:\n",
        "      r_states.append(((n_state_x, n_state_y), 1))\n",
        "    \n",
        "  return r_states"
      ],
      "metadata": {
        "id": "CAuCUWNtTqUm"
      },
      "execution_count": null,
      "outputs": []
    },
    {
      "cell_type": "code",
      "source": [
        "def expand_in_maze_8d(state, ranodom_ratio, rand_generator):\n",
        "  x, y = state\n",
        "  dx = [1, 1, 0, -1, -1, -1, 0, 1]\n",
        "  dy = [0, 1, 1, 1, 0, -1, -1, -1]\n",
        "  r_states = []\n",
        "\n",
        "  for i in range(8):\n",
        "    if ranodom_ratio is not None:\n",
        "        if rand_generator.uniform(0, 1) < ranodom_ratio:\n",
        "          continue\n",
        "    n_state_x = x + dx[i]\n",
        "    n_state_y = y + dy[i]\n",
        "    if 0 <= n_state_x < w and 0 <= n_state_y < l and maze_array[n_state_x, n_state_y] != 0:\n",
        "      r_states.append(((n_state_x, n_state_y), 1))\n",
        "    \n",
        "  return r_states"
      ],
      "metadata": {
        "id": "34k00OhjQGSA"
      },
      "execution_count": null,
      "outputs": []
    },
    {
      "cell_type": "code",
      "source": [
        "def goal_test(state):\n",
        "  return state == goal_state"
      ],
      "metadata": {
        "id": "PjEgEba_WCxE"
      },
      "execution_count": null,
      "outputs": []
    },
    {
      "cell_type": "markdown",
      "source": [
        "Experiments for maze"
      ],
      "metadata": {
        "id": "MWxVTRJQbOv7"
      }
    },
    {
      "cell_type": "code",
      "source": [
        "# Chose maze here\n",
        "# image = Image.open(\"maze1.png\")\n",
        "image = Image.open(\"maze2.png\")"
      ],
      "metadata": {
        "id": "gpKcV_QYHw5V"
      },
      "execution_count": null,
      "outputs": []
    },
    {
      "cell_type": "code",
      "source": [
        "threshold = 200\n",
        "\n",
        "image = image.convert(\"L\").point(lambda x: 0 if x < threshold else 1, mode=\"1\")\n",
        "\n",
        "array = np.array(image)\n",
        "maze_array = np.array([row[::2] for row in array[::2]]).astype(int)\n",
        "# np.savetxt(\"maze.txt\", maze_array, fmt=\"%d\", delimiter=\"\")\n",
        "\n",
        "print(maze_array)\n",
        "\n",
        "w, l = maze_array.shape\n",
        "print(w, l)\n",
        "start_state = (0, (w+1)//2 - 5)\n",
        "goal_state = (l-1, (w+1)//2 + 3)\n",
        "\n",
        "maze_array_to_show = maze_array.astype(str)\n",
        "maze_array_to_show[start_state] = 'S'\n",
        "maze_array_to_show[goal_state] = 'G'\n",
        "np.savetxt(\"maze.txt\", maze_array_to_show, fmt=\"%s\", delimiter=\"\")"
      ],
      "metadata": {
        "id": "v0Xylx9M-YJ8"
      },
      "execution_count": null,
      "outputs": []
    },
    {
      "cell_type": "code",
      "source": [
        "ratio = [None, 0, 0.01, 0.02, 0.03, 0.05, 0.1, 0.2, 0.3, 0.5]\n",
        "ratio_name = ['None', '0% (With overhead)', '1%', '2%', '3%', '5%', '10%', '20%', '30%', '50%']"
      ],
      "metadata": {
        "id": "gChtotG5ZaG0"
      },
      "execution_count": null,
      "outputs": []
    },
    {
      "cell_type": "code",
      "source": [
        "df = pd.DataFrame()\n",
        "for weight, algo_name in zip([1, 0.5, 2], ['A*', 'WA* (w=0.5)', 'WA* (w=2)']):\n",
        "  for hf in ['manhattan distance', 'separating wall']:\n",
        "    for expand_dir in [4, 8]:\n",
        "      for r, rn in zip(ratio, ratio_name):\n",
        "        heuristic_func = manhattan_distance_to_goal if hf == 'manhattan distance' \\\n",
        "          else number_of_separating_walls\n",
        "        expand_func = expand_in_maze_4d if expand_dir == 4 else expand_in_maze_8d\n",
        "        _, stat = a_star_with_random_pruning(start_state, heuristic_func, expand_func, goal_test,\n",
        "                                             weight=weight, ranodom_ratio=r)\n",
        "        stat['Algorithm'] = algo_name\n",
        "        stat['Heuristics'] = hf\n",
        "        stat['Branch'] = expand_dir\n",
        "        stat['Random ratio'] = rn\n",
        "        print(stat)\n",
        "        df = df.append(stat, ignore_index=True)\n",
        "df.to_csv('Result.csv')\n",
        "df"
      ],
      "metadata": {
        "id": "CekMGbh9Qqal"
      },
      "execution_count": null,
      "outputs": []
    }
  ]
}